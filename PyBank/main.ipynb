{
 "cells": [
  {
   "cell_type": "code",
   "execution_count": 1,
   "id": "6502dff2-929f-489a-80cf-7a39ca770f7e",
   "metadata": {},
   "outputs": [],
   "source": [
    "# The Module 2 Challenge_PyBank Financial Analysis"
   ]
  },
  {
   "cell_type": "code",
   "execution_count": 2,
   "id": "64c06fc1-3f17-42cd-8563-dfaf8dc51224",
   "metadata": {
    "tags": []
   },
   "outputs": [],
   "source": [
    "# Import necessary libraries for reading csv files"
   ]
  },
  {
   "cell_type": "code",
   "execution_count": 3,
   "id": "0a70cb1a-8394-4fb7-adc0-05f36411d9a9",
   "metadata": {
    "tags": []
   },
   "outputs": [],
   "source": [
    "import os"
   ]
  },
  {
   "cell_type": "code",
   "execution_count": 4,
   "id": "a31348f7-cefa-4436-850f-33332c56b1d4",
   "metadata": {
    "tags": []
   },
   "outputs": [],
   "source": [
    "import csv"
   ]
  },
  {
   "cell_type": "code",
   "execution_count": null,
   "id": "d26d9cd2-b5d7-48fd-8606-ee31e09c0f6d",
   "metadata": {},
   "outputs": [],
   "source": []
  },
  {
   "cell_type": "code",
   "execution_count": 5,
   "id": "f6aee193-c68c-48ad-a257-819e51b30ca2",
   "metadata": {
    "tags": []
   },
   "outputs": [],
   "source": [
    "# Set the path for csv file"
   ]
  },
  {
   "cell_type": "code",
   "execution_count": null,
   "id": "061279c6-2ab7-438f-ac8e-21dbaabbd8c5",
   "metadata": {},
   "outputs": [],
   "source": [
    "import os\n",
    "import csv\n",
    "\n",
    "csvpath = os.path.join(\"Resources\", \"budget_data.csv\")\n",
    "\n",
    "num_rows=0\n",
    "total_rev=0\n",
    "profit_loss =[]\n",
    "yearly_change = []\n",
    "change=0.0\n",
    "total_change=0\n",
    "average_change=0\n",
    "greatest_increase=0\n",
    "smallest_increase=0\n",
    "greatest_year=0\n",
    "smallest_year=0\n",
    "BASE_YEAR=2010\n",
    "\n",
    "with open(csvpath, newline=\"\") as csvfile:\n",
    "    csvreader = csv.reader(csvfile, delimiter= \",\")\n",
    "    print(csvreader)\n",
    "    csv_header =next(csvreader)\n",
    "    print(f\"CSV Header:  {csv_header}\")\n",
    "    for row in csvreader:\n",
    "        num_rows=num_rows+1\n",
    "        print(\"row\", row)\n",
    "        date = row[0]\n",
    "        print(\"date\", date)\n",
    "        profit_losses = int(row[1])\n",
    "        print(\"profit_losses\", profit_losses)\n",
    "        profit_loss.append(profit_losses)\n",
    "        print(\"profit_loss\", profit_loss)\n",
    "        total_rev += int(row[1])"
   ]
  },
  {
   "cell_type": "code",
   "execution_count": 18,
   "id": "57c3ab02-a7d1-4d85-b040-400887840744",
   "metadata": {
    "tags": []
   },
   "outputs": [],
   "source": [
    "average = sum(profit_loss)/86"
   ]
  },
  {
   "cell_type": "code",
   "execution_count": 19,
   "id": "562fe2c6-a85c-42a7-a40b-1e625405e274",
   "metadata": {
    "tags": []
   },
   "outputs": [
    {
     "name": "stdout",
     "output_type": "stream",
     "text": [
      "446309.0465116279\n"
     ]
    }
   ],
   "source": [
    "print(average)"
   ]
  },
  {
   "cell_type": "code",
   "execution_count": 23,
   "id": "37986286-e78d-40c1-b600-23215232d44b",
   "metadata": {
    "tags": []
   },
   "outputs": [],
   "source": [
    "for i in range(len(profit_loss)):\n",
    "            profit_loss[i] = (profit_loss[i])\n",
    "        #calculate the change in population size for each two years\n",
    "            for i in range(1,len(profit_loss)):\n",
    "                change = profit_loss[i] - profit_loss[i-1]\n",
    "                total_change = float(sum(profit_loss))\n",
    "                average_change = total_change/86"
   ]
  },
  {
   "cell_type": "code",
   "execution_count": 7,
   "id": "a00883c0-30cb-4af8-ac0c-b080077269a5",
   "metadata": {
    "tags": []
   },
   "outputs": [],
   "source": [
    "# Create new lists to store data for total number of months, net total amount of Profit/Losses over the entire period, average of the changes in Profit/Losses over their period, greatest increase in profits, and greatest decrease in profits"
   ]
  },
  {
   "cell_type": "code",
   "execution_count": 64,
   "id": "9727bcb1-a3c1-4096-a96b-98d326684f2c",
   "metadata": {
    "tags": []
   },
   "outputs": [
    {
     "data": {
      "text/plain": [
       "86"
      ]
     },
     "execution_count": 64,
     "metadata": {},
     "output_type": "execute_result"
    }
   ],
   "source": [
    "total_months = ['Jan-2010', 'Feb-2010', 'Mar-2010', 'Apr-2010', 'May-2010', 'Jun-2010', 'Jul-2010', 'Aug-2010', 'Sep-2010', 'Oct-2010', 'Nov-2010', 'Dec-2010', 'Jan-2011', 'Feb-2011', 'Mar-2011', 'Apr-2011', 'May-2011', 'Jun-2011', 'Jul-2011', 'Aug-2011', 'Sep-2011', 'Oct-2011', 'Nov-2011', 'Dec-2011', 'Jan-2012', 'Feb-2012', 'Mar-2012', 'Apr-2012', 'May-2012', 'Jun-2012', 'Jul-2012', 'Aug-2012', 'Sep-2012', 'Oct-2012', 'Nov-2012', 'Dec-2012', 'Jan-2013', 'Feb-2013', 'Mar-2013', 'Apr-2013', 'May-2013', 'Jun-2013', 'Jul-2013', 'Aug-2013', 'Sep-2013', 'Oct-2013', 'Nov-2013', 'Dec-2013', 'Jan-2014', 'Feb-2014', 'Mar-2014', 'Apr-2014', 'May-2014', 'Jun-2014', 'Jul-2014', 'Aug-2014', 'Sep-2014', 'Oct-2014', 'Nov-2014', 'Dec-2014', 'Jan-2015', 'Feb-2015', 'Mar-2015', 'Apr-2015', 'May-2015', 'Jun-2015', 'Jul-2015', 'Aug-2015', 'Sep-2015', 'Oct-2015', 'Nov-2015', 'Dec-2015', 'Jan-2016', 'Feb-2016', 'Mar-2016', 'Apr-2016', 'May-2016', 'Jun-2016', 'Jul-2016', 'Aug-2016', 'Sep-2016', 'Oct-2016', 'Nov-2016', 'Dec-2016', 'Jan-2017', 'Feb-2017' ]\n",
    "len(total_months)"
   ]
  },
  {
   "cell_type": "code",
   "execution_count": 61,
   "id": "476c3d13-b8b7-48d2-b6da-b1d6d2e7d5c4",
   "metadata": {
    "tags": []
   },
   "outputs": [],
   "source": [
    "def average(num_1, num_2, num_3, num_4, num_5, num_6, num_7, num_8, num_9, num_10, num_11, num_12, num_13, num_14, num_15, num_16, num_17, num_18, num_19, num_20, num_21, num_22, num_23, num_24, num_25, num_26, num_27, num_28, num_29, num_30, num_31, num_32, num_33, num_34, num_35, num_36, num_37, num_38, num_39, num_40, num_41, num_42, num_43, num_44, num_45, num_46, num_47, num_48, num_49, num_50, num_51, num_52, num_53, num_54, num_55, num_56, num_57, num_58, num_59, num_60, num_61, num_62, num_63, num_64, num_65, num_66, num_67, num_68, num_69, num_70, num_71, num_72, num_73, num_74, num_75, num_76, num_77, num_78, num_79, num_80, num_81, num_82, num_83, num_84, num_85, num_86):\n",
    "    avg_calc = num_1 + num_2 + num_3 + num_4 + num_5 + num_6 + num_7 + num_8 + num_9 + num_10 + num_11 + num_12 + num_13 + num_14 + num_15 + num_16 + num_17 + num_18 + num_19 + num_20 + num_21 + num_22 + num_23 + num_24 + num_25 + num_26 + num_27 + num_28 + num_29 + num_30 + num_31 + num_32 + num_33 + num_34 + num_35 + num_36 + num_37 + num_38 + num_39 + num_40 + num_41 + num_42 + num_43 + num_44 + num_45 + num_46 + num_47 + num_48 + num_49 + num_50 + num_51 + num_52 + num_53 + num_54 + num_55 + num_56 + num_57 + num_58 + num_59 + num_60 + num_61 + num_62 + num_63 + num_64 + num_65 + num_66 + num_67 + num_68 + num_69 + num_70 + num_71 + num_72 + num_73 + num_74 + num_75 + num_76 + num_77 + num_78 + num_79 + num_80 + num_81 + num_82 + num_83 + num_84 + num_85 + num_86 / 86\n",
    "    return avg_calc"
   ]
  },
  {
   "cell_type": "code",
   "execution_count": 67,
   "id": "eca090d9-7cc9-44bc-a134-50b4de9a6d3a",
   "metadata": {
    "tags": []
   },
   "outputs": [
    {
     "data": {
      "text/plain": [
       "38382578"
      ]
     },
     "execution_count": 67,
     "metadata": {},
     "output_type": "execute_result"
    }
   ],
   "source": [
    "sum([867884,984655,322013,-69417,310503,522857,1033096,604885,-216386,477532,893810,-80353,779806,-335203,697845,793163,485070,584122,62729,668179,899906,834719,132003,309978,-755566,1170593,252788,1151518,817256,570757,506702,-1022534,475062,779976,144175,542494,359333,321469,67780,471435,565603,872480,789480,999942,-1196225,268997,-687986,1150461,682458,617856,824098,581943,132864,448062,689161,800701,1166643,947333,578668,988505,1139715,1029471,687533,-524626,158620,87795,423389,840723,568529,332067,989499,778237,650000,-1100387,-174946,757143,445709,712961,-1163797,569899,768450,102685,795914,60988,138230,671099])"
   ]
  },
  {
   "cell_type": "code",
   "execution_count": 65,
   "id": "27e645d1-2741-4e82-8d62-b54606fecdeb",
   "metadata": {
    "tags": []
   },
   "outputs": [],
   "source": [
    "greatest = max(867884,984655,322013,-69417,310503,522857,1033096,604885,-216386,477532,893810,-80353,779806,-335203,697845,793163,485070,584122,62729,668179,899906,834719,132003,309978,-755566,1170593,252788,1151518,817256,570757,506702,-1022534,475062,779976,144175,542494,359333,321469,67780,471435,565603,872480,789480,999942,-1196225,268997,-687986,1150461,682458,617856,824098,581943,132864,448062,689161,800701,1166643,947333,578668,988505,1139715,1029471,687533,-524626,158620,87795,423389,840723,568529,332067,989499,778237,650000,-1100387,-174946,757143,445709,712961,-1163797,569899,768450,102685,795914,60988,138230,671099)"
   ]
  },
  {
   "cell_type": "code",
   "execution_count": 66,
   "id": "e4d8dc9f-64cc-4119-ae39-f84b117f0fcc",
   "metadata": {
    "tags": []
   },
   "outputs": [
    {
     "name": "stdout",
     "output_type": "stream",
     "text": [
      "1170593\n"
     ]
    }
   ],
   "source": [
    "print(greatest)"
   ]
  },
  {
   "cell_type": "code",
   "execution_count": 30,
   "id": "6b49f2b4-36e0-4972-836c-0d3ebf9ab53f",
   "metadata": {},
   "outputs": [],
   "source": [
    "smallest = min(867884,984655,322013,-69417,310503,522857,1033096,604885,-216386,477532,893810,-80353,779806,-335203,697845,793163,485070,584122,62729,668179,899906,834719,132003,309978,-755566,1170593,252788,1151518,817256,570757,506702,-1022534,475062,779976,144175,542494,359333,321469,67780,471435,565603,872480,789480,999942,-1196225,268997,-687986,1150461,682458,617856,824098,581943,132864,448062,689161,800701,1166643,947333,578668,988505,1139715,1029471,687533,-524626,158620,87795,423389,840723,568529,332067,989499,778237,650000,-1100387,-174946,757143,445709,712961,-1163797,569899,768450,102685,795914,60988,138230,671099)"
   ]
  },
  {
   "cell_type": "code",
   "execution_count": 31,
   "id": "8c9f594e-3aa0-46ad-8782-697ba8663d8f",
   "metadata": {
    "tags": []
   },
   "outputs": [
    {
     "name": "stdout",
     "output_type": "stream",
     "text": [
      "-1196225\n"
     ]
    }
   ],
   "source": [
    "print(smallest)"
   ]
  },
  {
   "cell_type": "code",
   "execution_count": null,
   "id": "71263ffc-9823-429d-8672-2e67e76fe509",
   "metadata": {},
   "outputs": [],
   "source": []
  }
 ],
 "metadata": {
  "kernelspec": {
   "display_name": "Python 3 (ipykernel)",
   "language": "python",
   "name": "python3"
  },
  "language_info": {
   "codemirror_mode": {
    "name": "ipython",
    "version": 3
   },
   "file_extension": ".py",
   "mimetype": "text/x-python",
   "name": "python",
   "nbconvert_exporter": "python",
   "pygments_lexer": "ipython3",
   "version": "3.11.4"
  }
 },
 "nbformat": 4,
 "nbformat_minor": 5
}
